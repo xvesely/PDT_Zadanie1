{
 "cells": [
  {
   "cell_type": "code",
   "execution_count": 10,
   "id": "11203876-1ca8-4071-a768-a0d103e3eb0d",
   "metadata": {},
   "outputs": [],
   "source": [
    "import psycopg as pg3\n",
    "import psycopg2 as pg\n",
    "import psycopg2.extensions\n",
    "from psycopg2.extras import execute_values\n",
    "import copy\n",
    "import time\n",
    "import gzip\n",
    "import json\n",
    "import os\n",
    "import dotenv"
   ]
  },
  {
   "cell_type": "code",
   "execution_count": 21,
   "id": "72bf98d3-3594-4de5-b1db-03c49e57bdc1",
   "metadata": {},
   "outputs": [],
   "source": [
    "# Connect to your postgres DB\n",
    "connection = pg.connect(host=\"localhost\", user=\"postgres\", password=\"example\", dbname=\"postgres\")\n",
    "pg.extensions.register_type(pg.extensions.UNICODE, connection)"
   ]
  },
  {
   "cell_type": "code",
   "execution_count": 22,
   "id": "0a8791db-28ec-41c1-9437-5f17bf93d195",
   "metadata": {},
   "outputs": [],
   "source": [
    "cursor = connection.cursor()\n"
   ]
  },
  {
   "cell_type": "code",
   "execution_count": 3,
   "id": "1868ae93-737d-4a84-8641-8122df538341",
   "metadata": {},
   "outputs": [],
   "source": [
    "path_to_authors = r\"C:\\Users\\marve\\authors.jsonl.gz\"\n",
    "path_to_conversations = r\"C:\\Users\\marve\\conversations.jsonl.gz\""
   ]
  },
  {
   "cell_type": "code",
   "execution_count": 4,
   "id": "71812b25-aa73-4007-9d97-996f26be5e3e",
   "metadata": {},
   "outputs": [],
   "source": [
    "with gzip.open(path_to_conversations,'r') as f:\n",
    "    for line in f:\n",
    "        conversation = line\n",
    "        break"
   ]
  },
  {
   "cell_type": "markdown",
   "id": "8ec1d807-6a2d-4a2e-8919-fd6b64b7b22e",
   "metadata": {},
   "source": [
    "Zacneme prvotne so importom dat userov..."
   ]
  },
  {
   "cell_type": "code",
   "execution_count": 14,
   "id": "31eaa4f9-21cf-4aed-bf03-75e1075058a8",
   "metadata": {},
   "outputs": [],
   "source": [
    "def exists(obj, attr, is_id=False):    \n",
    "    if attr in obj.keys() and obj[attr] is not None:\n",
    "        if is_id and obj[attr] == \"\":\n",
    "            return False\n",
    "        return True\n",
    "    return False"
   ]
  },
  {
   "cell_type": "code",
   "execution_count": 41,
   "id": "fb9f739d-08cf-4512-b486-3dfa82918bb6",
   "metadata": {},
   "outputs": [],
   "source": [
    "def make_string_valid(string):\n",
    "    string = (str(string)\n",
    "        .encode(\"utf-8\")\n",
    "        .decode(\"utf-8\", errors=\"replace\")\n",
    "        .replace(\"\\x00\", \"\\uFFFD\")\n",
    "    )\n",
    "    return string"
   ]
  },
  {
   "cell_type": "code",
   "execution_count": 19,
   "id": "90777bcf",
   "metadata": {},
   "outputs": [],
   "source": [
    "arr = [\n",
    "    [\"a\", \"b\"],\n",
    "    [\"a\", \"b\"] \n",
    "]"
   ]
  },
  {
   "cell_type": "code",
   "execution_count": 25,
   "id": "e61e2ab2",
   "metadata": {},
   "outputs": [],
   "source": [
    "arr = [0, 0, 1]"
   ]
  },
  {
   "cell_type": "code",
   "execution_count": 23,
   "id": "1ca951fc",
   "metadata": {},
   "outputs": [
    {
     "ename": "TypeError",
     "evalue": "unhashable type: 'list'",
     "output_type": "error",
     "traceback": [
      "\u001b[1;31m---------------------------------------------------------------------------\u001b[0m",
      "\u001b[1;31mTypeError\u001b[0m                                 Traceback (most recent call last)",
      "\u001b[1;32mc:\\Users\\marve\\OneDrive\\Dokumenty\\FIIT\\ING\\3. semester\\PDT\\Zadania\\Zadanie 1\\Playing.ipynb Cell 10\u001b[0m in \u001b[0;36m<cell line: 1>\u001b[1;34m()\u001b[0m\n\u001b[1;32m----> <a href='vscode-notebook-cell:/c%3A/Users/marve/OneDrive/Dokumenty/FIIT/ING/3.%20semester/PDT/Zadania/Zadanie%201/Playing.ipynb#X50sZmlsZQ%3D%3D?line=0'>1</a>\u001b[0m \u001b[39mset\u001b[39;49m(arr)\n",
      "\u001b[1;31mTypeError\u001b[0m: unhashable type: 'list'"
     ]
    }
   ],
   "source": [
    "set(arr)"
   ]
  },
  {
   "cell_type": "code",
   "execution_count": 7,
   "id": "d8928ae4",
   "metadata": {},
   "outputs": [],
   "source": [
    "# v ramci definicie tabulky vynechavam FK contraints, nakolko zbytocne budu spomalovat tvorbu dat a skor si to budem u\n",
    "# seba kontrolovat, ci existuje entita, na ktoru sa referencuje...\n",
    "\n",
    "# aj sme odstranili unique constraint od hashtags\n",
    "def create_misc_tables_no_fk(cursor):\n",
    "\n",
    "    \n",
    "\n",
    "    \n",
    "    \n",
    "\n",
    "    cursor.execute(\"\"\"\n",
    "        CREATE TABLE IF NOT EXISTS context_domains (\n",
    "        id int8 PRIMARY KEY,\n",
    "        name varchar(255) NOT NULL,\n",
    "        description text\n",
    "        );\n",
    "    \"\"\")\n",
    "\n",
    "    cursor.execute(\"\"\"\n",
    "        CREATE TABLE IF NOT EXISTS context_entities (\n",
    "        id int8 PRIMARY KEY,\n",
    "        name varchar(255) NOT NULL,\n",
    "        description text\n",
    "        );\n",
    "    \"\"\")\n",
    "\n",
    "    cursor.execute(\"\"\"\n",
    "    CREATE TABLE IF NOT EXISTS context_annotations (\n",
    "        id int8 PRIMARY KEY,\n",
    "        conversation_id int8 NOT NULL,\n",
    "        context_domain_id int8 NOT NULL,\n",
    "        context_entity_id int8 NOT NULL\n",
    "        );\n",
    "    \"\"\")\n",
    "\n",
    "\n",
    "    cursor.execute()\n",
    "    \n",
    "      \n",
    "    cursor.execute(\"\"\"\n",
    "        CREATE TABLE IF NOT EXISTS links (\n",
    "        id int8 PRIMARY KEY,\n",
    "        conversation_id int8 NOT NULL,\n",
    "        url varchar(2048) NOT NULL,\n",
    "        title text,\n",
    "        description text\n",
    "        );\n",
    "    \"\"\")\n",
    "\n",
    "    cursor.execute(\n",
    "        \"\"\"CREATE TABLE IF NOT EXISTS conversation_references (\n",
    "        id int8 PRIMARY KEY,\n",
    "        conversation_id int8 NOT NULL,\n",
    "        parent_id int8 NOT NULL,\n",
    "        type varchar(20) NOT NULL\n",
    "        );\n",
    "    \"\"\")\n",
    "    "
   ]
  },
  {
   "cell_type": "code",
   "execution_count": 18,
   "id": "db4248c4",
   "metadata": {},
   "outputs": [
    {
     "data": {
      "text/plain": [
       "2"
      ]
     },
     "execution_count": 18,
     "metadata": {},
     "output_type": "execute_result"
    }
   ],
   "source": [
    "sum([True, True])"
   ]
  },
  {
   "cell_type": "code",
   "execution_count": 16,
   "id": "f8b3c076",
   "metadata": {},
   "outputs": [
    {
     "data": {
      "text/plain": [
       "{'author_id': '91305838',\n",
       " 'conversation_id': '1496732914436001794',\n",
       " 'created_at': '2022-02-24T06:25:09.000Z',\n",
       " 'entities': {'mentions': [{'end': 19,\n",
       "    'id': '1708603484',\n",
       "    'start': 3,\n",
       "    'username': 'aliilkayozdemir'}]},\n",
       " 'id': '1496732914436001794',\n",
       " 'lang': 'tr',\n",
       " 'possibly_sensitive': False,\n",
       " 'public_metrics': {'like_count': 0,\n",
       "  'quote_count': 0,\n",
       "  'reply_count': 0,\n",
       "  'retweet_count': 20},\n",
       " 'referenced_tweets': [{'id': '1496731235300917250', 'type': 'retweeted'}],\n",
       " 'reply_settings': 'everyone',\n",
       " 'source': 'Twitter Web App',\n",
       " 'text': 'RT @aliilkayozdemir: Batı istihbaratı \"Katil Rusya\\'nın\" işgal planını açıkladıkça, \"Batı, Rusya\\'yı savaşa sokmak istiyor\" diye günlerdir, i…'}"
      ]
     },
     "execution_count": 16,
     "metadata": {},
     "output_type": "execute_result"
    }
   ],
   "source": [
    "# conversation = json.loads(conversation)\n",
    "conversation"
   ]
  },
  {
   "cell_type": "code",
   "execution_count": 8,
   "id": "1bca182b",
   "metadata": {},
   "outputs": [],
   "source": [
    "def import_context_tables(path_to_conversations_export, log_step=10000):\n",
    "    pass"
   ]
  },
  {
   "cell_type": "code",
   "execution_count": 16,
   "id": "a1f222fa-a1af-4bd0-b50a-c2d20788c7b2",
   "metadata": {},
   "outputs": [],
   "source": [
    "def import_author_table(path_to_author_export, log_step=10000):\n",
    "    print(\"...Importing 'authors' data...\")\n",
    "    start_time = time.time()\n",
    "    prev_block_time = start_time\n",
    "\n",
    "    create_table_string = \"\"\"\n",
    "        CREATE TABLE IF NOT EXISTS authors (\n",
    "\t    id int8 PRIMARY KEY,\n",
    "        name varchar(255),\n",
    "        username varchar(255),\n",
    "        description text,\n",
    "        followers_count int4,\n",
    "        following_count int4,\n",
    "        tweet_count int4,\n",
    "        listed_count int4\n",
    "        );\n",
    "    \"\"\"\n",
    "\n",
    "    connection = pg.connect(host=\"localhost\", user=\"postgres\", password=\"example\", dbname=\"postgres\")\n",
    "    pg.extensions.register_type(pg.extensions.UNICODE, connection)\n",
    "    cursor = connection.cursor()\n",
    "\n",
    "    cursor.execute(create_table_string)\n",
    "\n",
    "    with gzip.open(path_to_author_export,'r') as f:\n",
    "        for it, author_json_str in enumerate(f):\n",
    "            author_obj = json.loads(author_json_str)\n",
    "            author_row = migrate_author_entity(author_obj)\n",
    "            if author_row is not None:\n",
    "                cursor.execute(\n",
    "                    \"\"\"\n",
    "                    INSERT INTO authors (id, name, username, description, \n",
    "                    followers_count, following_count, tweet_count, \n",
    "                    listed_count) VALUES (%s, %s, %s, %s, %s, %s, %s, %s)\n",
    "                    \"\"\",\n",
    "                    author_row\n",
    "                )\n",
    "\n",
    "            if it % 10000 == 0 and it != 0:\n",
    "                connection.commit()\n",
    "\n",
    "                time_check = time.time()\n",
    "                print(f\"Time elapsed since the beggining: {time_check - start_time / 60}m | Time spent on the last block: {time_check - prev_block_time}\")\n",
    "                prev_block_time = time_check\n",
    "\n",
    "            \n",
    "    cursor.close()\n",
    "    connection.close()\n",
    "    print(\"...Finished importing 'authors' data...\")    \n",
    "        "
   ]
  },
  {
   "cell_type": "code",
   "execution_count": 36,
   "id": "77d1cb44-266e-4f62-bcb1-dffa8368c9c5",
   "metadata": {},
   "outputs": [],
   "source": [
    "def migrate_author_entity(original_obj):\n",
    "    obj = copy.deepcopy(original_obj)\n",
    "\n",
    "    if exists(obj, \"id\", is_id=True) == False:\n",
    "        return None\n",
    "    obj[\"id\"] = int(obj[\"id\"])\n",
    "\n",
    "    nullable_string_attributes = [\n",
    "        \"name\",\n",
    "        \"username\",\n",
    "        \"description\"\n",
    "    ]\n",
    "    for str_attrb in nullable_string_attributes:\n",
    "        if exists(obj, str_attrb) == False:\n",
    "            obj[str_attrb] = None\n",
    "        else:\n",
    "            obj[str_attrb] = make_string_valid(obj[str_attrb])\n",
    "    \n",
    "    public_metrics = [\n",
    "        \"followers_count\",\n",
    "        \"following_count\"\n",
    "        \"tweet_count\"\n",
    "        \"listed_count\"\n",
    "    ]\n",
    "    if exists(obj, \"public_metrics\") == False:\n",
    "        obj[\"public_metrics\"] = {}\n",
    "        \n",
    "        for m in public_metrics:\n",
    "            obj[\"public_metrics\"][m] = None\n",
    "    else:    \n",
    "        for m in public_metrics:\n",
    "            if exists(obj[\"public_metrics\"], m) == False:\n",
    "                obj[\"public_metrics\"][m] = None\n",
    "            else:\n",
    "                obj[\"public_metrics\"][m] = int(obj[\"public_metrics\"][m])\n",
    "    \n",
    "    table_row = [\n",
    "        obj[\"id\"],\n",
    "        obj[\"name\"],\n",
    "        obj[\"username\"],\n",
    "        obj[\"description\"],\n",
    "        obj[\"public_metrics\"][\"followers_count\"],\n",
    "        obj[\"public_metrics\"][\"following_count\"],\n",
    "        obj[\"public_metrics\"][\"tweet_count\"],\n",
    "        obj[\"public_metrics\"][\"listed_count\"],\n",
    "    ]\n",
    "    \n",
    "\n",
    "    return table_row"
   ]
  },
  {
   "cell_type": "code",
   "execution_count": 30,
   "id": "41b42312-7c71-49a8-b16a-a173fef41200",
   "metadata": {},
   "outputs": [],
   "source": [
    "author_row = migrate_author_entity(author)"
   ]
  },
  {
   "cell_type": "code",
   "execution_count": 32,
   "id": "dae4ea4b",
   "metadata": {},
   "outputs": [],
   "source": [
    "cursor = connection.cursor()\n",
    "\n",
    "cursor.execute(\n",
    "    \"\"\"\n",
    "    INSERT INTO authors (id, name, username, description, \n",
    "    followers_count, following_count, tweet_count, \n",
    "    listed_count) VALUES (%s, %s, %s, %s, %s, %s, %s, %s)\n",
    "    \"\"\",\n",
    "    author_row\n",
    ")"
   ]
  },
  {
   "cell_type": "code",
   "execution_count": 33,
   "id": "095b2e78",
   "metadata": {},
   "outputs": [],
   "source": [
    "connection.commit()"
   ]
  }
 ],
 "metadata": {
  "kernelspec": {
   "display_name": "Python 3.9.12 ('base')",
   "language": "python",
   "name": "python3"
  },
  "language_info": {
   "codemirror_mode": {
    "name": "ipython",
    "version": 3
   },
   "file_extension": ".py",
   "mimetype": "text/x-python",
   "name": "python",
   "nbconvert_exporter": "python",
   "pygments_lexer": "ipython3",
   "version": "3.9.12"
  },
  "vscode": {
   "interpreter": {
    "hash": "6ba5286ba7630a8931ab9e4e0878ef47e7bb23a57c38db51d630f311ac1cf8b9"
   }
  }
 },
 "nbformat": 4,
 "nbformat_minor": 5
}
