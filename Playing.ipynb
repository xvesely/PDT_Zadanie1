{
 "cells": [
  {
   "cell_type": "code",
   "execution_count": 1,
   "id": "11203876-1ca8-4071-a768-a0d103e3eb0d",
   "metadata": {},
   "outputs": [],
   "source": [
    "import psycopg2 as pg\n",
    "import psycopg2.extensions\n",
    "from psycopg2.extras import execute_values\n",
    "import copy\n",
    "import time\n",
    "import gzip\n",
    "import json"
   ]
  },
  {
   "cell_type": "code",
   "execution_count": 21,
   "id": "72bf98d3-3594-4de5-b1db-03c49e57bdc1",
   "metadata": {},
   "outputs": [],
   "source": [
    "# Connect to your postgres DB\n",
    "connection = pg.connect(host=\"localhost\", user=\"postgres\", password=\"example\", dbname=\"postgres\")\n",
    "pg.extensions.register_type(pg.extensions.UNICODE, connection)"
   ]
  },
  {
   "cell_type": "code",
   "execution_count": 22,
   "id": "0a8791db-28ec-41c1-9437-5f17bf93d195",
   "metadata": {},
   "outputs": [],
   "source": [
    "cursor = connection.cursor()\n"
   ]
  },
  {
   "cell_type": "code",
   "execution_count": 3,
   "id": "1868ae93-737d-4a84-8641-8122df538341",
   "metadata": {},
   "outputs": [],
   "source": [
    "path_to_authors = r\"C:\\Users\\marve\\authors.jsonl.gz\"\n",
    "path_to_conversations = r\"C:\\Users\\marve\\conversations.jsonl.gz\""
   ]
  },
  {
   "cell_type": "code",
   "execution_count": 4,
   "id": "71812b25-aa73-4007-9d97-996f26be5e3e",
   "metadata": {},
   "outputs": [],
   "source": [
    "with gzip.open(path_to_conversations,'r') as f:\n",
    "    for line in f:\n",
    "        conversation = line\n",
    "        break"
   ]
  },
  {
   "cell_type": "markdown",
   "id": "8ec1d807-6a2d-4a2e-8919-fd6b64b7b22e",
   "metadata": {},
   "source": [
    "Zacneme prvotne so importom dat userov..."
   ]
  },
  {
   "cell_type": "code",
   "execution_count": 14,
   "id": "31eaa4f9-21cf-4aed-bf03-75e1075058a8",
   "metadata": {},
   "outputs": [],
   "source": [
    "def exists(obj, attr, is_id=False):    \n",
    "    if attr in obj.keys() and obj[attr] is not None:\n",
    "        if is_id and obj[attr] == \"\":\n",
    "            return False\n",
    "        return True\n",
    "    return False"
   ]
  },
  {
   "cell_type": "code",
   "execution_count": 41,
   "id": "fb9f739d-08cf-4512-b486-3dfa82918bb6",
   "metadata": {},
   "outputs": [],
   "source": [
    "def make_string_valid(string):\n",
    "    string = (str(string)\n",
    "        .encode(\"utf-8\")\n",
    "        .decode(\"utf-8\", errors=\"replace\")\n",
    "        .replace(\"\\x00\", \"\\uFFFD\")\n",
    "    )\n",
    "    return string"
   ]
  },
  {
   "cell_type": "code",
   "execution_count": null,
   "id": "d8928ae4",
   "metadata": {},
   "outputs": [],
   "source": [
    "def create_tables(cursor):\n",
    "    cursor.execute(\"\"\"\n",
    "        CREATE TABLE conversations (\n",
    "        id int8 PRIMARY KEY,\n",
    "        author_id int8 NOT NULL,\n",
    "        content text NOT NULL,\n",
    "        possibly_sensitive bool NOT NULL,\n",
    "        language varchar(3) NOT NULL,\n",
    "        source text NOT NULL,\n",
    "        retweet_count int4,\n",
    "        reply_count int4,\n",
    "        like_count int4,\n",
    "        quote_count int4,\n",
    "        created_at TIMESTAMPTZ,\n",
    "        FOREIGN KEY (role_id) REFERENCES roles (role_id)\n",
    "        );\n",
    "    \"\"\")\n",
    "    "
   ]
  },
  {
   "cell_type": "code",
   "execution_count": null,
   "id": "f8b3c076",
   "metadata": {},
   "outputs": [],
   "source": [
    "def import_conversation_table(path_to_conversation_export, log_step=10000):\n",
    "    print(\"...Importing 'authors' data...\")\n",
    "    start_time = time.time()\n",
    "    prev_block_time = start_time\n",
    "\n",
    "    connection = pg.connect(host=\"localhost\", user=\"postgres\", password=\"example\", dbname=\"postgres\")\n",
    "    pg.extensions.register_type(pg.extensions.UNICODE, connection)\n",
    "    cursor = connection.cursor()\n",
    "\n",
    "    create_tables(cursor)\n"
   ]
  },
  {
   "cell_type": "code",
   "execution_count": 16,
   "id": "a1f222fa-a1af-4bd0-b50a-c2d20788c7b2",
   "metadata": {},
   "outputs": [],
   "source": [
    "def import_author_table(path_to_author_export, log_step=10000):\n",
    "    print(\"...Importing 'authors' data...\")\n",
    "    start_time = time.time()\n",
    "    prev_block_time = start_time\n",
    "\n",
    "    create_table_string = \"\"\"\n",
    "        CREATE TABLE authors (\n",
    "\t    id int8 PRIMARY KEY,\n",
    "        name varchar(255),\n",
    "        username varchar(255),\n",
    "        description text,\n",
    "        followers_count int4,\n",
    "        following_count int4,\n",
    "        tweet_count int4,\n",
    "        listed_count int4\n",
    "        );\n",
    "    \"\"\"\n",
    "\n",
    "    connection = pg.connect(host=\"localhost\", user=\"postgres\", password=\"example\", dbname=\"postgres\")\n",
    "    pg.extensions.register_type(pg.extensions.UNICODE, connection)\n",
    "    cursor = connection.cursor()\n",
    "\n",
    "    cursor.execute(create_table_string)\n",
    "\n",
    "    with gzip.open(path_to_author_export,'r') as f:\n",
    "        for it, author_json_str in enumerate(f):\n",
    "            author_obj = json.loads(author_json_str)\n",
    "            author_row = migrate_author_entity(author_obj)\n",
    "            if author_row is not None:\n",
    "                cursor.execute(\n",
    "                    \"\"\"\n",
    "                    INSERT INTO authors (id, name, username, description, \n",
    "                    followers_count, following_count, tweet_count, \n",
    "                    listed_count) VALUES (%s, %s, %s, %s, %s, %s, %s, %s)\n",
    "                    \"\"\",\n",
    "                    author_row\n",
    "                )\n",
    "\n",
    "            if it % 10000 == 0 and it != 0:\n",
    "                connection.commit()\n",
    "\n",
    "                time_check = time.time()\n",
    "                print(f\"Time elapsed since the beggining: {time_check - start_time / 60}m | Time spent on the last block: {time_check - prev_block_time}\")\n",
    "                prev_block_time = time_check\n",
    "\n",
    "            \n",
    "    cursor.close()\n",
    "    connection.close()\n",
    "    print(\"...Finished importing 'authors' data...\")    \n",
    "        "
   ]
  },
  {
   "cell_type": "code",
   "execution_count": 36,
   "id": "77d1cb44-266e-4f62-bcb1-dffa8368c9c5",
   "metadata": {},
   "outputs": [],
   "source": [
    "def migrate_author_entity(original_obj):\n",
    "    obj = copy.deepcopy(original_obj)\n",
    "\n",
    "    if exists(obj, \"id\", is_id=True) == False:\n",
    "        return None\n",
    "    obj[\"id\"] = int(obj[\"id\"])\n",
    "\n",
    "    nullable_string_attributes = [\n",
    "        \"name\",\n",
    "        \"username\",\n",
    "        \"description\"\n",
    "    ]\n",
    "    for str_attrb in nullable_string_attributes:\n",
    "        if exists(obj, str_attrb) == False:\n",
    "            obj[str_attrb] = None\n",
    "        else:\n",
    "            obj[str_attrb] = make_string_valid(obj[str_attrb])\n",
    "    \n",
    "    public_metrics = [\n",
    "        \"followers_count\",\n",
    "        \"following_count\"\n",
    "        \"tweet_count\"\n",
    "        \"listed_count\"\n",
    "    ]\n",
    "    if exists(obj, \"public_metrics\") == False:\n",
    "        obj[\"public_metrics\"] = {}\n",
    "        \n",
    "        for m in public_metrics:\n",
    "            obj[\"public_metrics\"][m] = None\n",
    "    else:    \n",
    "        for m in public_metrics:\n",
    "            if exists(obj[\"public_metrics\"], m) == False:\n",
    "                obj[\"public_metrics\"][m] = None\n",
    "            else:\n",
    "                obj[\"public_metrics\"][m] = int(obj[\"public_metrics\"][m])\n",
    "    \n",
    "    table_row = [\n",
    "        obj[\"id\"],\n",
    "        obj[\"name\"],\n",
    "        obj[\"username\"],\n",
    "        obj[\"description\"],\n",
    "        obj[\"public_metrics\"][\"followers_count\"],\n",
    "        obj[\"public_metrics\"][\"following_count\"],\n",
    "        obj[\"public_metrics\"][\"tweet_count\"],\n",
    "        obj[\"public_metrics\"][\"listed_count\"],\n",
    "    ]\n",
    "    \n",
    "\n",
    "    return table_row"
   ]
  },
  {
   "cell_type": "code",
   "execution_count": 30,
   "id": "41b42312-7c71-49a8-b16a-a173fef41200",
   "metadata": {},
   "outputs": [],
   "source": [
    "author_row = migrate_author_entity(author)"
   ]
  },
  {
   "cell_type": "code",
   "execution_count": 32,
   "id": "dae4ea4b",
   "metadata": {},
   "outputs": [],
   "source": [
    "cursor = connection.cursor()\n",
    "\n",
    "cursor.execute(\n",
    "    \"\"\"\n",
    "    INSERT INTO authors (id, name, username, description, \n",
    "    followers_count, following_count, tweet_count, \n",
    "    listed_count) VALUES (%s, %s, %s, %s, %s, %s, %s, %s)\n",
    "    \"\"\",\n",
    "    author_row\n",
    ")"
   ]
  },
  {
   "cell_type": "code",
   "execution_count": 33,
   "id": "095b2e78",
   "metadata": {},
   "outputs": [],
   "source": [
    "connection.commit()"
   ]
  },
  {
   "cell_type": "code",
   "execution_count": null,
   "id": "7c00d710",
   "metadata": {},
   "outputs": [],
   "source": []
  },
  {
   "cell_type": "code",
   "execution_count": null,
   "id": "a5371663",
   "metadata": {},
   "outputs": [],
   "source": [
    "\"\"\"CREATE TABLE hashtags (\n",
    "\tid int8 PRIMARY KEY,\n",
    "    tag text UNIQUE NOT NULL\n",
    ");\"\"\"\n",
    "\n",
    "\"\"\"\n",
    "CREATE TABLE conversation_hashtags (\n",
    "\tid int8 PRIMARY KEY,\n",
    "    conversation_id int8 NOT NULL,\n",
    "    hashtag_id int8 NOT NULL,\n",
    "    FOREIGN KEY (conversation_id) REFERENCES conversations (id),\n",
    "    FOREIGN KEY (hashtag_id) REFERENCES hashtags (id)\n",
    ");\n",
    "\"\"\""
   ]
  },
  {
   "cell_type": "code",
   "execution_count": null,
   "id": "84182115",
   "metadata": {},
   "outputs": [],
   "source": [
    "\"\"\"CREATE TABLE context_domains (\n",
    "\tid int8 PRIMARY KEY,\n",
    "    name varchar(255) NOT NULL,\n",
    "    description text\n",
    ");\"\"\"\n",
    "\n",
    "\"\"\"CREATE TABLE context_entities (\n",
    "\tid int8 PRIMARY KEY,\n",
    "    name varchar(255) NOT NULL,\n",
    "    description text\n",
    ");\"\"\"\n",
    "\n",
    "\"\"\"\n",
    "CREATE TABLE context_annotations (\n",
    "\tid int8 PRIMARY KEY,\n",
    "    conversation_id int8 NOT NULL,\n",
    "    context_domain_id int8 NOT NULL,\n",
    "    context_entity_id int8 NOT NULL,\n",
    "    FOREIGN KEY (conversation_id) REFERENCES conversations (id),\n",
    "    FOREIGN KEY (context_domain_id) REFERENCES context_domains (id),\n",
    "    FOREIGN KEY (context_entity_id) REFERENCES context_entities (id)\n",
    ");\n",
    "\"\"\""
   ]
  },
  {
   "cell_type": "code",
   "execution_count": null,
   "id": "04a23071",
   "metadata": {},
   "outputs": [],
   "source": [
    "\"\"\"CREATE TABLE annotations (\n",
    "\tid int8 PRIMARY KEY,\n",
    "    conversation_id int8 NOT NULL,\n",
    "    value text NOT NULL,\n",
    "    type text NOT NULL,\n",
    "    probability numeric(4,3) NOT NULL,\n",
    "    FOREIGN KEY (conversation_id) REFERENCES conversations (id),\n",
    ");\"\"\""
   ]
  },
  {
   "cell_type": "code",
   "execution_count": null,
   "id": "f4925219",
   "metadata": {},
   "outputs": [],
   "source": [
    "\"\"\"CREATE TABLE links (\n",
    "\tid int8 PRIMARY KEY,\n",
    "    conversation_id int8 NOT NULL,\n",
    "    url varchar(2048) NOT NULL,\n",
    "    title text,\n",
    "    description text,\n",
    "    FOREIGN KEY (conversation_id) REFERENCES conversations (id),\n",
    ");\"\"\""
   ]
  },
  {
   "cell_type": "code",
   "execution_count": null,
   "id": "e87f9ab3",
   "metadata": {},
   "outputs": [],
   "source": [
    "\"\"\"CREATE TABLE conversation_references (\n",
    "\tid int8 PRIMARY KEY,\n",
    "    conversation_id int8 NOT NULL,\n",
    "    parent_id int8 NOT NULL,\n",
    "    type varchar(20) NOT NULL,\n",
    "    FOREIGN KEY (conversation_id) REFERENCES conversations (id),\n",
    "    FOREIGN KEY (parent_id) REFERENCES conversations (id),\n",
    ");\"\"\""
   ]
  }
 ],
 "metadata": {
  "kernelspec": {
   "display_name": "Python 3.9.12 ('base')",
   "language": "python",
   "name": "python3"
  },
  "language_info": {
   "codemirror_mode": {
    "name": "ipython",
    "version": 3
   },
   "file_extension": ".py",
   "mimetype": "text/x-python",
   "name": "python",
   "nbconvert_exporter": "python",
   "pygments_lexer": "ipython3",
   "version": "3.9.12"
  },
  "vscode": {
   "interpreter": {
    "hash": "6ba5286ba7630a8931ab9e4e0878ef47e7bb23a57c38db51d630f311ac1cf8b9"
   }
  }
 },
 "nbformat": 4,
 "nbformat_minor": 5
}
